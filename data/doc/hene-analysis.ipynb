{
 "cells": [
  {
   "cell_type": "markdown",
   "metadata": {},
   "source": [
    "## Analysing He-Ne measurements with optics package.\n",
    "\n",
    "Here we are providing an analysis on a set of experimental measurements where we obtain simoultaneously the reflected and transmitted power, using an experimental set-up formed by two triangular prisms coupled together in order to study the frustrated total internal reflection (FTIR)."
   ]
  },
  {
   "cell_type": "markdown",
   "metadata": {},
   "source": [
    "We start by importing the ```Monochromatic``` class from the ```optics``` package. We will also need ```numpy``` and ```matplotlib``` for this analysis.\n",
    "\n",
    "The ```Monochromatic``` class allows us to read the measurements as well as perform some computations in order to obtain the magnitudes we want to study from the measurements."
   ]
  },
  {
   "cell_type": "code",
   "execution_count": 8,
   "metadata": {},
   "outputs": [],
   "source": [
    "from optics import Monochromatic, report\n",
    "import numpy as np\n",
    "import matplotlib.pyplot as plt"
   ]
  },
  {
   "cell_type": "markdown",
   "metadata": {},
   "source": [
    "We start by inicialazing an object from that class by giving as a parameter the path of the folder were we store the files which contain the measurements."
   ]
  },
  {
   "cell_type": "code",
   "execution_count": 9,
   "metadata": {},
   "outputs": [],
   "source": [
    "folder_path = 'sources/set1/'\n",
    "\n",
    "obj = Monochromatic(folder_path)"
   ]
  },
  {
   "cell_type": "markdown",
   "metadata": {},
   "source": [
    "Once we have inicialiced the object, we can call its methods in order to obtain the desired data. We will start by calling the ```_adjust_data()``` method in order to obtain a dictionary with all the meassured data organiced. \n",
    "\n",
    "By calling that method instead of ```_get_data()``` we are already obtaining the data adjusted so that each value of the measured power is associated to the corresponding angle where it was measured. We do the adjustment according to the values given in the ```data_info.txt``` file where we see the initial and final values in each case and its corresponding angles."
   ]
  },
  {
   "cell_type": "code",
   "execution_count": 10,
   "metadata": {},
   "outputs": [
    {
     "name": "stdout",
     "output_type": "stream",
     "text": [
      "Label: a_a_TE\n",
      " T\n",
      "    1:\n",
      "      Measured power: [1.073e-07, 1.070833e-07, 9.192711e-08, 8.742769e-08, 8.371335e-08]\n",
      "      Angles: [360.         359.95169082 359.90338164 359.85507246 359.80676329]\n",
      "    2:\n",
      "      Measured power: [3.054541e-07, 2.777085e-07, 2.189667e-07, 2.202166e-07, 2.08718e-07]\n",
      "      Angles: [360.         359.95169082 359.90338164 359.85507246 359.80676329]\n",
      " R\n",
      "    2:\n",
      "      Measured power: [0.002236354, 0.002236857, 0.002249938, 0.002254808, 0.002241527]\n",
      "      Angles: [360.         359.95169082 359.90338164 359.85507246 359.80676329]\n",
      "    1:\n",
      "      Measured power: [0.002232058, 0.002239825, 0.002262814, 0.002250904, 0.002156668]\n",
      "      Angles: [360.         359.95169082 359.90338164 359.85507246 359.80676329]\n",
      "\n",
      "\n",
      "Label: a_a_TM\n",
      " T\n",
      "    1:\n",
      "      Measured power: [4.491004e-07, 4.678422e-07, 4.71521e-07, 4.937366e-07, 1.470915e-07]\n",
      "      Angles: [360.         359.95169082 359.90338164 359.85507246 359.80676329]\n",
      "    2:\n",
      "      Measured power: [2.122175e-07, 2.084676e-07, 2.024692e-07, 2.044688e-07, 2.137174e-07]\n",
      "      Angles: [360.         359.95169082 359.90338164 359.85507246 359.80676329]\n",
      " R\n",
      "    2:\n",
      "      Measured power: [0.002220387, 0.002221215, 0.002222069, 0.002231384, 0.002244615]\n",
      "      Angles: [360.         359.95169082 359.90338164 359.85507246 359.80676329]\n",
      "    1:\n",
      "      Measured power: [0.00227429, 0.002274156, 0.002275266, 0.002269575, 0.002275501]\n",
      "      Angles: [360.         359.95169082 359.90338164 359.85507246 359.80676329]\n",
      "\n",
      "\n"
     ]
    }
   ],
   "source": [
    "# the method doesn't return a dictionary, instead it uploads the internal dictionary 'self.measured_data'\n",
    "obj._adjust_data()\n",
    "\n",
    "#we print the dictionary in order to see its structure:\n",
    "\n",
    "for key, dict in obj.measured_data.items():\n",
    "    print(f\"Label: {key}\")\n",
    "    for key2, dict2 in dict.items():\n",
    "        print(f' {key2}')\n",
    "        for key3, arrays in dict2.items():\n",
    "            print(f\"    {key3}:\")\n",
    "            print(f\"      Measured power: {arrays[0][:5]}\")\n",
    "            print(f\"      Angles: {arrays[1][:5]}\")\n",
    "    print('\\n')"
   ]
  },
  {
   "cell_type": "markdown",
   "metadata": {},
   "source": [
    "We note here that in the previous notation we are using the labels 1 and 2 to refer to the detector used to measure either the transmitter or the reflected power. \n",
    "\n",
    "According to the structure used to name the files with the measurements, described in ```name_format.txt```, the labels 1 and 2 refer to the order of the detectors, that is: \n",
    "\n",
    "- 1 : T -> S120UV ; R -> S121B\n",
    "- 2 : T -> S121B ; R -> S120UV\n",
    "\n",
    "We make a change in those labels in order to be:\n",
    "\n",
    "- 1 : detector S120UV\n",
    "- 2 : detector S121B"
   ]
  },
  {
   "cell_type": "markdown",
   "metadata": {},
   "source": [
    "Since we are using two different detectors when performing the measurment, we have a constant associated to each detector in the form: \n",
    "\n",
    "- 1st measurement: $ \\hspace{0.5cm} P_{R,1} = K_1 r P  \\hspace{0.5cm} P_{T,2} = K_2 t P $\n",
    "- 2nd measurement: $\\hspace{0.4cm} P_{R,2} = K_2 r P'  \\hspace{0.5cm} P_{T,1} = K_1 t P' $ \n",
    "\n",
    "where $P$ is the emited power in the 1st measurement, $P'$ the emited power in the second measurement, $K_{1,2}$ the constants associated to each detector and $P_{R,T,1,2}$ the measured power. The subscripts $1,2$ here are refearing to the detector used. \n",
    "\n",
    "From the previous we can compute the fraction $K_1/K_2$:\n",
    "\n",
    "$$ \\frac{K_1}{K_2} = \\sqrt{\\frac{P_{R,1 P_{T,1}}}{P_{R,2} P_{T,2}}}$$\n",
    "\n",
    "With that result we can correct the measured power in order to be independent from the detector used. In order to do that, we can use the ```_get_constants()``` and ```_corrected_values()``` methods to obtain those values."
   ]
  },
  {
   "cell_type": "code",
   "execution_count": 11,
   "metadata": {},
   "outputs": [
    {
     "name": "stdout",
     "output_type": "stream",
     "text": [
      "Label: a_a_TE\n",
      "K1/K2: [0.59211947 0.62137564 0.64978835 0.62953978 0.62120804]\n",
      " T\n",
      "    1:\n",
      "      Measured power: [1.073e-07, 1.070833e-07, 9.192711e-08, 8.742769e-08, 8.371335e-08]\n",
      "      Corrected power: [1.81213429e-07 1.72332634e-07 1.41472389e-07 1.38875561e-07\n",
      " 1.34758961e-07]\n",
      "    2:\n",
      "      Measured power: [3.054541e-07, 2.777085e-07, 2.189667e-07, 2.202166e-07, 2.08718e-07]\n",
      "      Corrected power: [1.80865321e-07 1.72561296e-07 1.42282010e-07 1.38635110e-07\n",
      " 1.29657300e-07]\n",
      " R\n",
      "    2:\n",
      "      Measured power: [0.002236354, 0.002236857, 0.002249938, 0.002254808, 0.002241527]\n",
      "      Corrected power: [0.00132419 0.00138993 0.00146198 0.00141949 0.00139245]\n",
      "    1:\n",
      "      Measured power: [0.002232058, 0.002239825, 0.002262814, 0.002250904, 0.002156668]\n",
      "      Corrected power: [0.00376961 0.00360462 0.00348239 0.00357548 0.00347173]\n",
      "\n",
      "\n",
      "Label: a_a_TM\n",
      "K1/K2: [1.47227761 1.51581165 1.54421709 1.56718133 0.83529798]\n",
      " T\n",
      "    1:\n",
      "      Measured power: [4.491004e-07, 4.678422e-07, 4.71521e-07, 4.937366e-07, 1.470915e-07]\n",
      "      Corrected power: [3.05037853e-07 3.08641380e-07 3.05346316e-07 3.15047526e-07\n",
      " 1.76094643e-07]\n",
      "    2:\n",
      "      Measured power: [2.122175e-07, 2.084676e-07, 2.024692e-07, 2.044688e-07, 2.137174e-07]\n",
      "      Corrected power: [3.12443073e-07 3.15997617e-07 3.12656399e-07 3.20439686e-07\n",
      " 1.78517713e-07]\n",
      " R\n",
      "    2:\n",
      "      Measured power: [0.002220387, 0.002221215, 0.002222069, 0.002231384, 0.002244615]\n",
      "      Corrected power: [0.00326903 0.00336694 0.00343136 0.00349698 0.00187492]\n",
      "    1:\n",
      "      Measured power: [0.00227429, 0.002274156, 0.002275266, 0.002269575, 0.002275501]\n",
      "      Corrected power: [0.00154474 0.00150029 0.00147341 0.00144819 0.00272418]\n",
      "\n",
      "\n"
     ]
    }
   ],
   "source": [
    "obj._get_constants()\n",
    "obj._corrected_values()\n",
    "\n",
    "for key, dict in obj.measured_data.items():\n",
    "    print(f\"Label: {key}\")\n",
    "    print(f\"K1/K2: {obj.constants[key][:5]}\")\n",
    "    for key2, dict2 in dict.items():\n",
    "        print(f' {key2}')\n",
    "        for key3, arrays in dict2.items():\n",
    "            print(f\"    {key3}:\")\n",
    "            print(f\"      Measured power: {arrays[0][:5]}\")\n",
    "            print(f\"      Corrected power: {obj.corrected_data[key][key2][key3][0][:5]}\")  \n",
    "    print('\\n')"
   ]
  },
  {
   "cell_type": "markdown",
   "metadata": {},
   "source": [
    "Since we have now the measurements of the transmitted and reflected power independent of the detector we can now compute the reflectance and transmittance from those values as it follows:\n",
    "\n",
    "$$ R = \\frac{P_R}{P_R + P_T}  \\hspace{0.5cm} T = \\frac{P_T}{P_T + P_R}$$\n",
    "\n",
    "We have 2 values for each of the measured power, that is, we have $P_{R,1}$, $P_{R,2}$, $P_{T,1}$ and $P_{T,2}$, according to the used detector. However, when we compute the reflectance and transmittance as showed above we are eliminating the fluctuations of the laser so we need to use the values taken in the same measurement, that is: \n",
    "\n",
    "- For the 1st measurement: $\\hspace{0.5cm} R = \\frac{P_{R,2}}{P_{R,2} + P_{T,1}}  \\hspace{0.5cm} T = \\frac{P_{T,1}}{P_{T,1} + P_{R,2}}$\n",
    "- For the 2nd measurement: $\\hspace{0.4cm} R = \\frac{P_{R,1}}{P_{R,1} + P_{T,2}}  \\hspace{0.5cm} T = \\frac{P_{T,2}}{P_{T,2} + P_{R,1}}$\n",
    "\n",
    "That's what we do when we call the method ``` _get_transmittance()```. The dictionary we obtain in this case uses the labels 1 and 2 to refer to the measurement. If everything is correct we expect to find the same values in both measurements."
   ]
  },
  {
   "cell_type": "code",
   "execution_count": 12,
   "metadata": {},
   "outputs": [
    {
     "name": "stdout",
     "output_type": "stream",
     "text": [
      "Label: a_a_TE\n",
      " T\n",
      "    1:\n",
      "      T/R : [1.36829914e-04 1.23971325e-04 9.67580690e-05 9.78251659e-05\n",
      " 9.67686276e-05]\n",
      "    2:\n",
      "      T/R : [4.79775796e-05 4.78699237e-05 4.08559499e-05 3.87723922e-05\n",
      " 3.73451775e-05]\n",
      " R\n",
      "    2:\n",
      "      T/R : [0.99995202 0.99995213 0.99995914 0.99996123 0.99996265]\n",
      "    1:\n",
      "      T/R : [0.99986317 0.99987603 0.99990324 0.99990217 0.99990323]\n",
      "\n",
      "\n",
      "Label: a_a_TM\n",
      " T\n",
      "    1:\n",
      "      T/R : [9.33028328e-05 9.16597155e-05 8.89791279e-05 9.00831128e-05\n",
      " 9.39122107e-05]\n",
      "    2:\n",
      "      T/R : [2.02221317e-04 2.10580102e-04 2.12154062e-04 2.21220272e-04\n",
      " 6.55265431e-05]\n",
      " R\n",
      "    2:\n",
      "      T/R : [0.99979778 0.99978942 0.99978785 0.99977878 0.99993447]\n",
      "    1:\n",
      "      T/R : [0.9999067  0.99990834 0.99991102 0.99990992 0.99990609]\n",
      "\n",
      "\n"
     ]
    }
   ],
   "source": [
    "obj._get_transmittance()\n",
    "\n",
    "for key, dict in obj.data.items():\n",
    "    print(f\"Label: {key}\")\n",
    "    for key2, dict2 in dict.items():\n",
    "        print(f' {key2}')\n",
    "        for key3, arrays in dict2.items():\n",
    "            print(f\"    {key3}:\")\n",
    "            print(f\"      T/R : {arrays[0][:5]}\")\n",
    "            #print(f\"      Angles : {arrays[1][:5]}\")\n",
    "    print('\\n')"
   ]
  },
  {
   "cell_type": "markdown",
   "metadata": {},
   "source": [
    "Finally we are going to use the report funcion in order to create a pdf file that displays all the information from the desired set of measurements."
   ]
  },
  {
   "cell_type": "code",
   "execution_count": 13,
   "metadata": {},
   "outputs": [],
   "source": [
    "report(folder_path,'report.pdf',10)"
   ]
  }
 ],
 "metadata": {
  "kernelspec": {
   "display_name": "ftir-venv",
   "language": "python",
   "name": "python3"
  },
  "language_info": {
   "codemirror_mode": {
    "name": "ipython",
    "version": 3
   },
   "file_extension": ".py",
   "mimetype": "text/x-python",
   "name": "python",
   "nbconvert_exporter": "python",
   "pygments_lexer": "ipython3",
   "version": "3.11.4"
  }
 },
 "nbformat": 4,
 "nbformat_minor": 2
}
